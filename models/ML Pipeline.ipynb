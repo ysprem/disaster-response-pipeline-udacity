{
 "cells": [
  {
   "cell_type": "markdown",
   "id": "32b223a4",
   "metadata": {},
   "source": [
    "## **Import libraries and load data from database**"
   ]
  },
  {
   "cell_type": "code",
   "execution_count": 1,
   "id": "ecfc479c",
   "metadata": {},
   "outputs": [
    {
     "name": "stdout",
     "output_type": "stream",
     "text": [
      "Requirement already satisfied: nltk in /home/ec2-user/anaconda3/envs/python3/lib/python3.6/site-packages (3.4.4)\n",
      "Requirement already satisfied: six in /home/ec2-user/anaconda3/envs/python3/lib/python3.6/site-packages (from nltk) (1.15.0)\n",
      "Requirement already satisfied: plotly in /home/ec2-user/anaconda3/envs/python3/lib/python3.6/site-packages (4.14.3)\n",
      "Requirement already satisfied: six in /home/ec2-user/anaconda3/envs/python3/lib/python3.6/site-packages (from plotly) (1.15.0)\n",
      "Requirement already satisfied: retrying>=1.3.3 in /home/ec2-user/anaconda3/envs/python3/lib/python3.6/site-packages (from plotly) (1.3.3)\n"
     ]
    }
   ],
   "source": [
    "!pip install nltk\n",
    "!pip install plotly"
   ]
  },
  {
   "cell_type": "code",
   "execution_count": 16,
   "id": "a9a0293c",
   "metadata": {},
   "outputs": [
    {
     "name": "stderr",
     "output_type": "stream",
     "text": [
      "[nltk_data] Downloading package punkt to /home/ec2-user/nltk_data...\n",
      "[nltk_data]   Package punkt is already up-to-date!\n",
      "[nltk_data] Downloading package stopwords to\n",
      "[nltk_data]     /home/ec2-user/nltk_data...\n",
      "[nltk_data]   Package stopwords is already up-to-date!\n",
      "[nltk_data] Downloading package wordnet to /home/ec2-user/nltk_data...\n",
      "[nltk_data]   Package wordnet is already up-to-date!\n"
     ]
    }
   ],
   "source": [
    "import pandas as pd\n",
    "import numpy as np\n",
    "from sqlalchemy import create_engine\n",
    "import re\n",
    "import pickle\n",
    "import nltk\n",
    "\n",
    "# import relevant functions/modules from the nltk\n",
    "\n",
    "nltk.download('punkt')\n",
    "nltk.download('stopwords')\n",
    "nltk.download('wordnet')\n",
    "from nltk.corpus import stopwords\n",
    "from nltk.tokenize import word_tokenize\n",
    "\n",
    "# import relevant functions/modules from the sklearn\n",
    "\n",
    "from sklearn.pipeline import Pipeline\n",
    "from sklearn.feature_extraction.text import CountVectorizer, TfidfTransformer\n",
    "from sklearn.model_selection import train_test_split, GridSearchCV\n",
    "from sklearn.metrics import classification_report\n",
    "from sklearn.ensemble import RandomForestClassifier, AdaBoostClassifier\n",
    "from sklearn.multioutput import MultiOutputClassifier\n",
    "from sklearn.metrics import accuracy_score, precision_score, recall_score, f1_score, make_scorer\n",
    "from sklearn.model_selection import GridSearchCV\n",
    "from sklearn.svm import SVC"
   ]
  },
  {
   "cell_type": "code",
   "execution_count": 3,
   "id": "21fb2a08",
   "metadata": {},
   "outputs": [
    {
     "name": "stderr",
     "output_type": "stream",
     "text": [
      "/home/ec2-user/anaconda3/envs/python3/lib/python3.6/site-packages/IPython/core/interactiveshell.py:3072: DtypeWarning: Columns (3) have mixed types.Specify dtype option on import or set low_memory=False.\n",
      "  interactivity=interactivity, compiler=compiler, result=result)\n"
     ]
    }
   ],
   "source": [
    "database_filepath = \"/content/disaster_response_db.db\"\n",
    "engine = create_engine('sqlite:///' + database_filepath)\n",
    "table_name = \"disaster_response_db_table\"\n",
    "df = pd.read_sql_table(table_name,engine)"
   ]
  },
  {
   "cell_type": "code",
   "execution_count": 23,
   "id": "22f76f9e",
   "metadata": {},
   "outputs": [
    {
     "data": {
      "text/html": [
       "<div>\n",
       "<style scoped>\n",
       "    .dataframe tbody tr th:only-of-type {\n",
       "        vertical-align: middle;\n",
       "    }\n",
       "\n",
       "    .dataframe tbody tr th {\n",
       "        vertical-align: top;\n",
       "    }\n",
       "\n",
       "    .dataframe thead th {\n",
       "        text-align: right;\n",
       "    }\n",
       "</style>\n",
       "<table border=\"1\" class=\"dataframe\">\n",
       "  <thead>\n",
       "    <tr style=\"text-align: right;\">\n",
       "      <th></th>\n",
       "      <th>id</th>\n",
       "      <th>message</th>\n",
       "      <th>original</th>\n",
       "      <th>genre</th>\n",
       "      <th>related</th>\n",
       "      <th>request</th>\n",
       "      <th>offer</th>\n",
       "      <th>aid_related</th>\n",
       "      <th>medical_help</th>\n",
       "      <th>medical_products</th>\n",
       "      <th>...</th>\n",
       "      <th>aid_centers</th>\n",
       "      <th>other_infrastructure</th>\n",
       "      <th>weather_related</th>\n",
       "      <th>floods</th>\n",
       "      <th>storm</th>\n",
       "      <th>fire</th>\n",
       "      <th>earthquake</th>\n",
       "      <th>cold</th>\n",
       "      <th>other_weather</th>\n",
       "      <th>direct_report</th>\n",
       "    </tr>\n",
       "  </thead>\n",
       "  <tbody>\n",
       "    <tr>\n",
       "      <th>0</th>\n",
       "      <td>2</td>\n",
       "      <td>Weather update - a cold front from Cuba that c...</td>\n",
       "      <td>Un front froid se retrouve sur Cuba ce matin. ...</td>\n",
       "      <td>direct</td>\n",
       "      <td>1</td>\n",
       "      <td>0</td>\n",
       "      <td>0</td>\n",
       "      <td>0</td>\n",
       "      <td>0</td>\n",
       "      <td>0</td>\n",
       "      <td>...</td>\n",
       "      <td>0</td>\n",
       "      <td>0</td>\n",
       "      <td>0</td>\n",
       "      <td>0</td>\n",
       "      <td>0</td>\n",
       "      <td>0</td>\n",
       "      <td>0</td>\n",
       "      <td>0</td>\n",
       "      <td>0</td>\n",
       "      <td>0</td>\n",
       "    </tr>\n",
       "    <tr>\n",
       "      <th>1</th>\n",
       "      <td>7</td>\n",
       "      <td>Is the Hurricane over or is it not over</td>\n",
       "      <td>Cyclone nan fini osinon li pa fini</td>\n",
       "      <td>direct</td>\n",
       "      <td>1</td>\n",
       "      <td>0</td>\n",
       "      <td>0</td>\n",
       "      <td>1</td>\n",
       "      <td>0</td>\n",
       "      <td>0</td>\n",
       "      <td>...</td>\n",
       "      <td>0</td>\n",
       "      <td>0</td>\n",
       "      <td>1</td>\n",
       "      <td>0</td>\n",
       "      <td>1</td>\n",
       "      <td>0</td>\n",
       "      <td>0</td>\n",
       "      <td>0</td>\n",
       "      <td>0</td>\n",
       "      <td>0</td>\n",
       "    </tr>\n",
       "    <tr>\n",
       "      <th>2</th>\n",
       "      <td>8</td>\n",
       "      <td>Looking for someone but no name</td>\n",
       "      <td>Patnm, di Maryani relem pou li banm nouvel li ...</td>\n",
       "      <td>direct</td>\n",
       "      <td>1</td>\n",
       "      <td>0</td>\n",
       "      <td>0</td>\n",
       "      <td>0</td>\n",
       "      <td>0</td>\n",
       "      <td>0</td>\n",
       "      <td>...</td>\n",
       "      <td>0</td>\n",
       "      <td>0</td>\n",
       "      <td>0</td>\n",
       "      <td>0</td>\n",
       "      <td>0</td>\n",
       "      <td>0</td>\n",
       "      <td>0</td>\n",
       "      <td>0</td>\n",
       "      <td>0</td>\n",
       "      <td>0</td>\n",
       "    </tr>\n",
       "    <tr>\n",
       "      <th>3</th>\n",
       "      <td>9</td>\n",
       "      <td>UN reports Leogane 80-90 destroyed. Only Hospi...</td>\n",
       "      <td>UN reports Leogane 80-90 destroyed. Only Hospi...</td>\n",
       "      <td>direct</td>\n",
       "      <td>1</td>\n",
       "      <td>1</td>\n",
       "      <td>0</td>\n",
       "      <td>1</td>\n",
       "      <td>0</td>\n",
       "      <td>1</td>\n",
       "      <td>...</td>\n",
       "      <td>0</td>\n",
       "      <td>0</td>\n",
       "      <td>0</td>\n",
       "      <td>0</td>\n",
       "      <td>0</td>\n",
       "      <td>0</td>\n",
       "      <td>0</td>\n",
       "      <td>0</td>\n",
       "      <td>0</td>\n",
       "      <td>0</td>\n",
       "    </tr>\n",
       "    <tr>\n",
       "      <th>4</th>\n",
       "      <td>12</td>\n",
       "      <td>says: west side of Haiti, rest of the country ...</td>\n",
       "      <td>facade ouest d Haiti et le reste du pays aujou...</td>\n",
       "      <td>direct</td>\n",
       "      <td>1</td>\n",
       "      <td>0</td>\n",
       "      <td>0</td>\n",
       "      <td>0</td>\n",
       "      <td>0</td>\n",
       "      <td>0</td>\n",
       "      <td>...</td>\n",
       "      <td>0</td>\n",
       "      <td>0</td>\n",
       "      <td>0</td>\n",
       "      <td>0</td>\n",
       "      <td>0</td>\n",
       "      <td>0</td>\n",
       "      <td>0</td>\n",
       "      <td>0</td>\n",
       "      <td>0</td>\n",
       "      <td>0</td>\n",
       "    </tr>\n",
       "  </tbody>\n",
       "</table>\n",
       "<p>5 rows × 39 columns</p>\n",
       "</div>"
      ],
      "text/plain": [
       "   id                                            message  \\\n",
       "0   2  Weather update - a cold front from Cuba that c...   \n",
       "1   7            Is the Hurricane over or is it not over   \n",
       "2   8                    Looking for someone but no name   \n",
       "3   9  UN reports Leogane 80-90 destroyed. Only Hospi...   \n",
       "4  12  says: west side of Haiti, rest of the country ...   \n",
       "\n",
       "                                            original   genre  related  \\\n",
       "0  Un front froid se retrouve sur Cuba ce matin. ...  direct        1   \n",
       "1                 Cyclone nan fini osinon li pa fini  direct        1   \n",
       "2  Patnm, di Maryani relem pou li banm nouvel li ...  direct        1   \n",
       "3  UN reports Leogane 80-90 destroyed. Only Hospi...  direct        1   \n",
       "4  facade ouest d Haiti et le reste du pays aujou...  direct        1   \n",
       "\n",
       "   request  offer  aid_related  medical_help  medical_products  ...  \\\n",
       "0        0      0            0             0                 0  ...   \n",
       "1        0      0            1             0                 0  ...   \n",
       "2        0      0            0             0                 0  ...   \n",
       "3        1      0            1             0                 1  ...   \n",
       "4        0      0            0             0                 0  ...   \n",
       "\n",
       "   aid_centers  other_infrastructure  weather_related  floods  storm  fire  \\\n",
       "0            0                     0                0       0      0     0   \n",
       "1            0                     0                1       0      1     0   \n",
       "2            0                     0                0       0      0     0   \n",
       "3            0                     0                0       0      0     0   \n",
       "4            0                     0                0       0      0     0   \n",
       "\n",
       "   earthquake  cold  other_weather  direct_report  \n",
       "0           0     0              0              0  \n",
       "1           0     0              0              0  \n",
       "2           0     0              0              0  \n",
       "3           0     0              0              0  \n",
       "4           0     0              0              0  \n",
       "\n",
       "[5 rows x 39 columns]"
      ]
     },
     "execution_count": 23,
     "metadata": {},
     "output_type": "execute_result"
    }
   ],
   "source": [
    "df.head()"
   ]
  },
  {
   "cell_type": "code",
   "execution_count": 6,
   "id": "a8d861bf",
   "metadata": {},
   "outputs": [],
   "source": [
    "X = df['message']\n",
    "Y = df.iloc[:,4:]"
   ]
  },
  {
   "cell_type": "markdown",
   "id": "bf84f6d6",
   "metadata": {},
   "source": [
    "#### Tokenize text"
   ]
  },
  {
   "cell_type": "code",
   "execution_count": 7,
   "id": "68a8e096",
   "metadata": {},
   "outputs": [],
   "source": [
    "def tokenize(text, url_place_holder_string = \"urlplaceholder\"):\n",
    "    \"\"\"Normalize, replace URLs, tokenize and lemmatize text string\n",
    "    \n",
    "    Args:\n",
    "    text: string. String containing message for processing\n",
    "       \n",
    "    Returns:\n",
    "    clean_tokens: list of strings. List containing processed input\n",
    "    \"\"\"\n",
    "    # Convert text to lowercase and remove punctuation\n",
    "    text = re.sub(r\"[^a-zA-Z0-9]\", \" \", text.lower())\n",
    "\n",
    "    #\n",
    "    url_regex = 'https?:\\/\\/(www\\.)?[-a-zA-Z0-9@:%._\\+~#=]{1,256}\\.[a-zA-Z0-9()]{1,6}\\b([-a-zA-Z0-9()@:%_\\+.~#?&//=]*)'\n",
    "    \n",
    "    detected_urls = re.findall(url_regex, text)\n",
    "    \n",
    "    # Replace url with a url placeholder string\n",
    "    for detected_url in detected_urls:\n",
    "        text = text.replace(detected_url, url_place_holder_string)\n",
    "\n",
    "    # Tokenize words\n",
    "    tokens = word_tokenize(text)\n",
    "    \n",
    "    # Stem word tokens and remove stop words\n",
    "    lemmatizer = nltk.WordNetLemmatizer()\n",
    "\n",
    "    clean_tokens = [lemmatizer.lemmatize(w).lower().strip() for w in tokens]\n",
    "    return clean_tokens"
   ]
  },
  {
   "cell_type": "markdown",
   "id": "ae874972",
   "metadata": {},
   "source": [
    "#### Build a machine learning pipeline"
   ]
  },
  {
   "cell_type": "code",
   "execution_count": 8,
   "id": "cf3d3ea9",
   "metadata": {},
   "outputs": [],
   "source": [
    "initial_pipeline = Pipeline([\n",
    "        ('vect', CountVectorizer(tokenizer = tokenize)),\n",
    "        ('tfidf', TfidfTransformer()),\n",
    "        ('clf', MultiOutputClassifier(RandomForestClassifier())),\n",
    "    ])"
   ]
  },
  {
   "cell_type": "markdown",
   "id": "7b50ba8f",
   "metadata": {},
   "source": [
    "#### Train the model"
   ]
  },
  {
   "cell_type": "code",
   "execution_count": 9,
   "id": "804a9216",
   "metadata": {},
   "outputs": [],
   "source": [
    "X_train, X_test, Y_train, Y_test = train_test_split(X, Y, random_state=42)\n",
    "model = initial_pipeline.fit(X_train, Y_train)"
   ]
  },
  {
   "cell_type": "markdown",
   "id": "601f5174",
   "metadata": {},
   "source": [
    "#### Test your model"
   ]
  },
  {
   "cell_type": "code",
   "execution_count": 10,
   "id": "b2df4f4a",
   "metadata": {},
   "outputs": [
    {
     "name": "stdout",
     "output_type": "stream",
     "text": [
      "                        precision    recall  f1-score   support\n",
      "\n",
      "               related       0.81      0.97      0.88      4938\n",
      "               request       0.89      0.46      0.61      1104\n",
      "                 offer       0.00      0.00      0.00        26\n",
      "           aid_related       0.79      0.64      0.71      2714\n",
      "          medical_help       0.67      0.05      0.10       542\n",
      "      medical_products       0.84      0.09      0.17       347\n",
      "     search_and_rescue       0.91      0.05      0.10       192\n",
      "              security       0.50      0.01      0.01       133\n",
      "              military       0.80      0.04      0.07       225\n",
      "                 water       0.90      0.24      0.38       430\n",
      "                  food       0.86      0.47      0.61       731\n",
      "               shelter       0.87      0.26      0.40       598\n",
      "              clothing       0.82      0.09      0.16       101\n",
      "                 money       0.75      0.04      0.07       168\n",
      "        missing_people       1.00      0.01      0.03        68\n",
      "              refugees       0.40      0.01      0.02       208\n",
      "                 death       0.83      0.12      0.20       294\n",
      "             other_aid       0.63      0.02      0.04       834\n",
      "infrastructure_related       0.00      0.00      0.00       419\n",
      "             transport       0.91      0.07      0.13       297\n",
      "             buildings       0.81      0.05      0.09       359\n",
      "           electricity       0.88      0.06      0.10       127\n",
      "                 tools       0.00      0.00      0.00        40\n",
      "             hospitals       0.00      0.00      0.00        71\n",
      "                 shops       0.00      0.00      0.00        35\n",
      "           aid_centers       0.00      0.00      0.00        72\n",
      "  other_infrastructure       0.00      0.00      0.00       281\n",
      "       weather_related       0.87      0.65      0.74      1814\n",
      "                floods       0.92      0.38      0.54       534\n",
      "                 storm       0.80      0.50      0.62       624\n",
      "                  fire       0.00      0.00      0.00        72\n",
      "            earthquake       0.89      0.76      0.82       606\n",
      "                  cold       0.90      0.06      0.12       140\n",
      "         other_weather       1.00      0.02      0.03       330\n",
      "         direct_report       0.87      0.36      0.51      1297\n",
      "\n",
      "             micro avg       0.83      0.50      0.63     20771\n",
      "             macro avg       0.63      0.18      0.24     20771\n",
      "          weighted avg       0.78      0.50      0.55     20771\n",
      "           samples avg       0.69      0.47      0.51     20771\n",
      "\n"
     ]
    },
    {
     "name": "stderr",
     "output_type": "stream",
     "text": [
      "/home/ec2-user/anaconda3/envs/python3/lib/python3.6/site-packages/sklearn/metrics/_classification.py:1245: UndefinedMetricWarning: Precision and F-score are ill-defined and being set to 0.0 in labels with no predicted samples. Use `zero_division` parameter to control this behavior.\n",
      "  _warn_prf(average, modifier, msg_start, len(result))\n",
      "/home/ec2-user/anaconda3/envs/python3/lib/python3.6/site-packages/sklearn/metrics/_classification.py:1245: UndefinedMetricWarning: Precision and F-score are ill-defined and being set to 0.0 in samples with no predicted labels. Use `zero_division` parameter to control this behavior.\n",
      "  _warn_prf(average, modifier, msg_start, len(result))\n",
      "/home/ec2-user/anaconda3/envs/python3/lib/python3.6/site-packages/sklearn/metrics/_classification.py:1245: UndefinedMetricWarning: Recall and F-score are ill-defined and being set to 0.0 in samples with no true labels. Use `zero_division` parameter to control this behavior.\n",
      "  _warn_prf(average, modifier, msg_start, len(result))\n"
     ]
    }
   ],
   "source": [
    "Y_prediction_test = model.predict(X_test)\n",
    "\n",
    "print(classification_report(Y_test.values, Y_prediction_test, target_names=Y.columns.values))"
   ]
  },
  {
   "cell_type": "markdown",
   "id": "ff600b37",
   "metadata": {},
   "source": [
    "#### Improve model"
   ]
  },
  {
   "cell_type": "markdown",
   "id": "ac49b64d",
   "metadata": {},
   "source": [
    "##### Use GridSearchCV for optimization of parameters"
   ]
  },
  {
   "cell_type": "code",
   "execution_count": 12,
   "id": "4cc9c50b",
   "metadata": {},
   "outputs": [
    {
     "name": "stdout",
     "output_type": "stream",
     "text": [
      "Fitting 5 folds for each of 36 candidates, totalling 180 fits\n"
     ]
    }
   ],
   "source": [
    "parameters = {'vect__min_df': [1, 5],\n",
    "              'tfidf__use_idf':[True, False],\n",
    "              'clf__estimator__n_estimators': [10, 20, 40], \n",
    "              'clf__estimator__min_samples_split':[2, 5, 10]}\n",
    "\n",
    "cv = GridSearchCV(initial_pipeline, param_grid = parameters, scoring = 'f1_micro', verbose = 10, n_jobs=-1)\n",
    "\n",
    "# Find best parameters\n",
    "np.random.seed(81)\n",
    "tuned_model = cv.fit(X_train, Y_train)"
   ]
  },
  {
   "cell_type": "code",
   "execution_count": 18,
   "id": "67b28410",
   "metadata": {},
   "outputs": [
    {
     "data": {
      "text/plain": [
       "{'clf__estimator__min_samples_split': 5,\n",
       " 'clf__estimator__n_estimators': 40,\n",
       " 'tfidf__use_idf': False,\n",
       " 'vect__min_df': 5}"
      ]
     },
     "execution_count": 18,
     "metadata": {},
     "output_type": "execute_result"
    }
   ],
   "source": [
    "tuned_model.best_params_"
   ]
  },
  {
   "cell_type": "markdown",
   "id": "1d611b2d",
   "metadata": {},
   "source": [
    "#### Test new improved model"
   ]
  },
  {
   "cell_type": "code",
   "execution_count": 13,
   "id": "35f42b01",
   "metadata": {},
   "outputs": [],
   "source": [
    "Y_prediction_test = tuned_model.predict(X_test)"
   ]
  },
  {
   "cell_type": "code",
   "execution_count": 14,
   "id": "0376bb9b",
   "metadata": {},
   "outputs": [
    {
     "name": "stdout",
     "output_type": "stream",
     "text": [
      "                        precision    recall  f1-score   support\n",
      "\n",
      "               related       0.81      0.97      0.88      4938\n",
      "               request       0.86      0.49      0.62      1104\n",
      "                 offer       0.00      0.00      0.00        26\n",
      "           aid_related       0.76      0.67      0.71      2714\n",
      "          medical_help       0.64      0.11      0.18       542\n",
      "      medical_products       0.81      0.14      0.24       347\n",
      "     search_and_rescue       0.69      0.05      0.09       192\n",
      "              security       0.00      0.00      0.00       133\n",
      "              military       0.66      0.13      0.22       225\n",
      "                 water       0.85      0.36      0.51       430\n",
      "                  food       0.83      0.60      0.69       731\n",
      "               shelter       0.84      0.43      0.57       598\n",
      "              clothing       0.67      0.20      0.31       101\n",
      "                 money       0.89      0.05      0.09       168\n",
      "        missing_people       0.50      0.01      0.03        68\n",
      "              refugees       0.45      0.04      0.08       208\n",
      "                 death       0.80      0.22      0.35       294\n",
      "             other_aid       0.69      0.03      0.06       834\n",
      "infrastructure_related       0.25      0.00      0.00       419\n",
      "             transport       0.77      0.15      0.25       297\n",
      "             buildings       0.87      0.13      0.23       359\n",
      "           electricity       0.67      0.05      0.09       127\n",
      "                 tools       0.00      0.00      0.00        40\n",
      "             hospitals       0.00      0.00      0.00        71\n",
      "                 shops       0.00      0.00      0.00        35\n",
      "           aid_centers       0.00      0.00      0.00        72\n",
      "  other_infrastructure       0.00      0.00      0.00       281\n",
      "       weather_related       0.83      0.73      0.78      1814\n",
      "                floods       0.92      0.56      0.69       534\n",
      "                 storm       0.77      0.62      0.69       624\n",
      "                  fire       0.75      0.08      0.15        72\n",
      "            earthquake       0.89      0.80      0.84       606\n",
      "                  cold       1.00      0.06      0.12       140\n",
      "         other_weather       0.58      0.03      0.06       330\n",
      "         direct_report       0.85      0.41      0.55      1297\n",
      "\n",
      "             micro avg       0.81      0.55      0.65     20771\n",
      "             macro avg       0.60      0.23      0.29     20771\n",
      "          weighted avg       0.76      0.55      0.58     20771\n",
      "           samples avg       0.67      0.49      0.52     20771\n",
      "\n"
     ]
    },
    {
     "name": "stderr",
     "output_type": "stream",
     "text": [
      "/home/ec2-user/anaconda3/envs/python3/lib/python3.6/site-packages/sklearn/metrics/_classification.py:1245: UndefinedMetricWarning: Precision and F-score are ill-defined and being set to 0.0 in labels with no predicted samples. Use `zero_division` parameter to control this behavior.\n",
      "  _warn_prf(average, modifier, msg_start, len(result))\n",
      "/home/ec2-user/anaconda3/envs/python3/lib/python3.6/site-packages/sklearn/metrics/_classification.py:1245: UndefinedMetricWarning: Precision and F-score are ill-defined and being set to 0.0 in samples with no predicted labels. Use `zero_division` parameter to control this behavior.\n",
      "  _warn_prf(average, modifier, msg_start, len(result))\n",
      "/home/ec2-user/anaconda3/envs/python3/lib/python3.6/site-packages/sklearn/metrics/_classification.py:1245: UndefinedMetricWarning: Recall and F-score are ill-defined and being set to 0.0 in samples with no true labels. Use `zero_division` parameter to control this behavior.\n",
      "  _warn_prf(average, modifier, msg_start, len(result))\n"
     ]
    }
   ],
   "source": [
    "print(classification_report(Y_test.values, Y_prediction_test, target_names=Y.columns.values))"
   ]
  },
  {
   "cell_type": "markdown",
   "id": "120354e7",
   "metadata": {},
   "source": [
    "#### We see good improvement in the F1 score after tuning, which is what we were optimizing for."
   ]
  },
  {
   "cell_type": "markdown",
   "id": "f21f6dd2",
   "metadata": {},
   "source": [
    "#### Trying different ML algorithm: ADABoost Classifier"
   ]
  },
  {
   "cell_type": "code",
   "execution_count": 17,
   "id": "2c2e764d",
   "metadata": {},
   "outputs": [
    {
     "name": "stdout",
     "output_type": "stream",
     "text": [
      "Fitting 5 folds for each of 9 candidates, totalling 45 fits\n"
     ]
    }
   ],
   "source": [
    "new_pipeline= Pipeline([\n",
    "    ('vect', CountVectorizer(tokenizer = tokenize)),\n",
    "    ('tfidf', TfidfTransformer()),\n",
    "    ('clf', MultiOutputClassifier(AdaBoostClassifier()))\n",
    "])\n",
    "\n",
    "parameters2 = {'clf__estimator__learning_rate': [0.01, 0.02, 0.05],\n",
    "               'clf__estimator__n_estimators': [10, 20, 40]}\n",
    "\n",
    "cv2 = GridSearchCV(new_pipeline, param_grid = parameters2, scoring = 'f1_micro', verbose = 10, n_jobs=-1)\n",
    "\n",
    "# Find best parameters\n",
    "np.random.seed(81)\n",
    "tuned_model2 = cv2.fit(X_train, Y_train)"
   ]
  },
  {
   "cell_type": "code",
   "execution_count": 19,
   "id": "5d986028",
   "metadata": {},
   "outputs": [
    {
     "data": {
      "text/plain": [
       "{'clf__estimator__learning_rate': 0.01, 'clf__estimator__n_estimators': 10}"
      ]
     },
     "execution_count": 19,
     "metadata": {},
     "output_type": "execute_result"
    }
   ],
   "source": [
    "tuned_model2.best_params_"
   ]
  },
  {
   "cell_type": "markdown",
   "id": "2ef52a22",
   "metadata": {},
   "source": [
    "#### Test different ML model"
   ]
  },
  {
   "cell_type": "code",
   "execution_count": 20,
   "id": "992d6d66",
   "metadata": {},
   "outputs": [],
   "source": [
    "Y_prediction_test = tuned_model2.predict(X_test)"
   ]
  },
  {
   "cell_type": "code",
   "execution_count": 21,
   "id": "1a29b733",
   "metadata": {},
   "outputs": [
    {
     "name": "stdout",
     "output_type": "stream",
     "text": [
      "                        precision    recall  f1-score   support\n",
      "\n",
      "               related       0.76      1.00      0.86      4938\n",
      "               request       0.62      0.40      0.49      1104\n",
      "                 offer       0.00      0.00      0.00        26\n",
      "           aid_related       0.80      0.20      0.32      2714\n",
      "          medical_help       0.59      0.11      0.18       542\n",
      "      medical_products       1.00      0.01      0.02       347\n",
      "     search_and_rescue       0.70      0.19      0.30       192\n",
      "              security       0.00      0.00      0.00       133\n",
      "              military       0.00      0.00      0.00       225\n",
      "                 water       0.58      0.87      0.70       430\n",
      "                  food       0.76      0.70      0.73       731\n",
      "               shelter       0.88      0.31      0.46       598\n",
      "              clothing       1.00      0.01      0.02       101\n",
      "                 money       0.63      0.17      0.27       168\n",
      "        missing_people       0.58      0.26      0.36        68\n",
      "              refugees       0.53      0.12      0.20       208\n",
      "                 death       0.73      0.15      0.24       294\n",
      "             other_aid       0.00      0.00      0.00       834\n",
      "infrastructure_related       0.00      0.00      0.00       419\n",
      "             transport       0.50      0.23      0.32       297\n",
      "             buildings       0.00      0.00      0.00       359\n",
      "           electricity       0.00      0.00      0.00       127\n",
      "                 tools       0.00      0.00      0.00        40\n",
      "             hospitals       0.00      0.00      0.00        71\n",
      "                 shops       0.00      0.00      0.00        35\n",
      "           aid_centers       0.00      0.00      0.00        72\n",
      "  other_infrastructure       0.00      0.00      0.00       281\n",
      "       weather_related       0.91      0.22      0.36      1814\n",
      "                floods       0.91      0.39      0.55       534\n",
      "                 storm       0.70      0.28      0.40       624\n",
      "                  fire       0.47      0.36      0.41        72\n",
      "            earthquake       0.89      0.65      0.75       606\n",
      "                  cold       0.63      0.19      0.29       140\n",
      "         other_weather       0.63      0.18      0.29       330\n",
      "         direct_report       0.66      0.40      0.50      1297\n",
      "\n",
      "             micro avg       0.74      0.44      0.55     20771\n",
      "             macro avg       0.47      0.21      0.26     20771\n",
      "          weighted avg       0.66      0.44      0.47     20771\n",
      "           samples avg       0.70      0.44      0.48     20771\n",
      "\n"
     ]
    },
    {
     "name": "stderr",
     "output_type": "stream",
     "text": [
      "/home/ec2-user/anaconda3/envs/python3/lib/python3.6/site-packages/sklearn/metrics/_classification.py:1245: UndefinedMetricWarning: Precision and F-score are ill-defined and being set to 0.0 in labels with no predicted samples. Use `zero_division` parameter to control this behavior.\n",
      "  _warn_prf(average, modifier, msg_start, len(result))\n",
      "/home/ec2-user/anaconda3/envs/python3/lib/python3.6/site-packages/sklearn/metrics/_classification.py:1245: UndefinedMetricWarning: Recall and F-score are ill-defined and being set to 0.0 in samples with no true labels. Use `zero_division` parameter to control this behavior.\n",
      "  _warn_prf(average, modifier, msg_start, len(result))\n"
     ]
    }
   ],
   "source": [
    "print(classification_report(Y_test.values, Y_prediction_test, target_names=Y.columns.values))"
   ]
  },
  {
   "cell_type": "markdown",
   "id": "5ecdbd4e",
   "metadata": {},
   "source": [
    "#### The random forest model has better performance"
   ]
  },
  {
   "cell_type": "code",
   "execution_count": 22,
   "id": "366ced19",
   "metadata": {},
   "outputs": [],
   "source": [
    "filename = 'tuned_model.sav'\n",
    "pickle.dump(tuned_model, open(filename, 'wb'))"
   ]
  }
 ],
 "metadata": {
  "kernelspec": {
   "display_name": "conda_python3",
   "language": "python",
   "name": "conda_python3"
  },
  "language_info": {
   "codemirror_mode": {
    "name": "ipython",
    "version": 3
   },
   "file_extension": ".py",
   "mimetype": "text/x-python",
   "name": "python",
   "nbconvert_exporter": "python",
   "pygments_lexer": "ipython3",
   "version": "3.6.13"
  }
 },
 "nbformat": 4,
 "nbformat_minor": 5
}
